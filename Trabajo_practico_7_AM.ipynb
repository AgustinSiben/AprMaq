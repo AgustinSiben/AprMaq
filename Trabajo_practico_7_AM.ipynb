{
  "nbformat": 4,
  "nbformat_minor": 0,
  "metadata": {
    "colab": {
      "name": "Trabajo practico 7 AM.ipynb",
      "provenance": [],
      "toc_visible": true,
      "authorship_tag": "ABX9TyNEn60N8WOFGb/qm/nhIEeG",
      "include_colab_link": true
    },
    "kernelspec": {
      "name": "python3",
      "display_name": "Python 3"
    },
    "language_info": {
      "name": "python"
    }
  },
  "cells": [
    {
      "cell_type": "markdown",
      "metadata": {
        "id": "view-in-github",
        "colab_type": "text"
      },
      "source": [
        "<a href=\"https://colab.research.google.com/github/AgustinSiben/AprMaq/blob/main/Trabajo_practico_7_AM.ipynb\" target=\"_parent\"><img src=\"https://colab.research.google.com/assets/colab-badge.svg\" alt=\"Open In Colab\"/></a>"
      ]
    },
    {
      "cell_type": "markdown",
      "metadata": {
        "id": "nUUGNZo2de67"
      },
      "source": [
        "#Trabajo Práctico 7 - AM"
      ]
    },
    {
      "cell_type": "code",
      "metadata": {
        "id": "Jf_WNuLGdeXl"
      },
      "source": [
        "import pandas as pd\n",
        "import numpy as np\n",
        "import matplotlib.pyplot as plt\n",
        "from sklearn.model_selection import train_test_split\n",
        "from sklearn.preprocessing import  StandardScaler\n",
        "from sklearn.decomposition import PCA\n",
        "from sklearn.decomposition import LatentDirichletAllocation\n",
        "from sklearn.decomposition import NMF"
      ],
      "execution_count": 25,
      "outputs": []
    },
    {
      "cell_type": "markdown",
      "metadata": {
        "id": "5tfAuXyZdiLm"
      },
      "source": [
        "##Obtengo y muestro los datos y sus caracteristicas\n",
        "Tambien elimino las columnas en las que tengo datos NAN"
      ]
    },
    {
      "cell_type": "code",
      "metadata": {
        "colab": {
          "base_uri": "https://localhost:8080/",
          "height": 0
        },
        "id": "SicvZXD4doXk",
        "outputId": "0bf17ccf-91e5-4138-9881-f7f67b1763c2"
      },
      "source": [
        "true_news = pd.read_csv(\"https://raw.githubusercontent.com/emmanueliarussi/DataScienceCapstone/master/3_MidtermProjects/ProjectBHP/data/housing_data.csv\")\n",
        "true_news = true_news.dropna()\n",
        "true_news.reset_index(drop=True, inplace=True)\n",
        "'''\n",
        "CRIM - per capita crime rate by town\n",
        "ZN - proportion of residential land zoned for lots over 25,000 sq.ft.\n",
        "INDUS - proportion of non-retail business acres per town.\n",
        "CHAS - Charles River dummy variable (1 if tract bounds river; 0 otherwise)\n",
        "NOX - nitric oxides concentration (parts per 10 million)\n",
        "RM - average number of rooms per dwelling\n",
        "AGE - proportion of owner-occupied units built prior to 1940\n",
        "DIS - weighted distances to five Boston employment centres\n",
        "RAD - index of accessibility to radial highways\n",
        "TAX - full-value property-tax rate per $10,000\n",
        "PTRATIO - pupil-teacher ratio by town\n",
        "B - 1000(Bk - 0.63)^2 where Bk is the proportion of blacks by town\n",
        "LSTAT - % lower status of the population\n",
        "MEDV - Median value of owner-occupied homes in $1000's\n",
        "'''\n",
        "\n",
        "#elimino algunas columnas para mejorar el rendimiento\n",
        "#del true_news['CRIM']\n",
        "#del true_news['ZN']\n",
        "#del true_news['INDUS']\n",
        "#del true_news['CHAS']\n",
        "del true_news['NOX']\n",
        "#del true_news['RM']\n",
        "#del true_news['AGE']\n",
        "del true_news['DIS']\n",
        "#del true_news['RAD']\n",
        "#del true_news['TAX']\n",
        "del true_news['PTRATIO']\n",
        "del true_news['B']\n",
        "#del true_news['LSTAT']\n",
        "\n",
        "true_news.describe()"
      ],
      "execution_count": 26,
      "outputs": [
        {
          "output_type": "execute_result",
          "data": {
            "text/html": [
              "<div>\n",
              "<style scoped>\n",
              "    .dataframe tbody tr th:only-of-type {\n",
              "        vertical-align: middle;\n",
              "    }\n",
              "\n",
              "    .dataframe tbody tr th {\n",
              "        vertical-align: top;\n",
              "    }\n",
              "\n",
              "    .dataframe thead th {\n",
              "        text-align: right;\n",
              "    }\n",
              "</style>\n",
              "<table border=\"1\" class=\"dataframe\">\n",
              "  <thead>\n",
              "    <tr style=\"text-align: right;\">\n",
              "      <th></th>\n",
              "      <th>CRIM</th>\n",
              "      <th>ZN</th>\n",
              "      <th>INDUS</th>\n",
              "      <th>CHAS</th>\n",
              "      <th>RM</th>\n",
              "      <th>AGE</th>\n",
              "      <th>RAD</th>\n",
              "      <th>TAX</th>\n",
              "      <th>LSTAT</th>\n",
              "      <th>MEDV</th>\n",
              "    </tr>\n",
              "  </thead>\n",
              "  <tbody>\n",
              "    <tr>\n",
              "      <th>count</th>\n",
              "      <td>394.000000</td>\n",
              "      <td>394.000000</td>\n",
              "      <td>394.000000</td>\n",
              "      <td>394.000000</td>\n",
              "      <td>394.000000</td>\n",
              "      <td>394.000000</td>\n",
              "      <td>394.000000</td>\n",
              "      <td>394.000000</td>\n",
              "      <td>394.000000</td>\n",
              "      <td>394.000000</td>\n",
              "    </tr>\n",
              "    <tr>\n",
              "      <th>mean</th>\n",
              "      <td>3.690136</td>\n",
              "      <td>11.460660</td>\n",
              "      <td>11.000863</td>\n",
              "      <td>0.068528</td>\n",
              "      <td>6.280015</td>\n",
              "      <td>68.932741</td>\n",
              "      <td>9.403553</td>\n",
              "      <td>406.431472</td>\n",
              "      <td>12.769112</td>\n",
              "      <td>22.359645</td>\n",
              "    </tr>\n",
              "    <tr>\n",
              "      <th>std</th>\n",
              "      <td>9.202423</td>\n",
              "      <td>23.954082</td>\n",
              "      <td>6.908364</td>\n",
              "      <td>0.252971</td>\n",
              "      <td>0.697985</td>\n",
              "      <td>27.888705</td>\n",
              "      <td>8.633451</td>\n",
              "      <td>168.312419</td>\n",
              "      <td>7.308430</td>\n",
              "      <td>9.142979</td>\n",
              "    </tr>\n",
              "    <tr>\n",
              "      <th>min</th>\n",
              "      <td>0.006320</td>\n",
              "      <td>0.000000</td>\n",
              "      <td>0.460000</td>\n",
              "      <td>0.000000</td>\n",
              "      <td>3.561000</td>\n",
              "      <td>2.900000</td>\n",
              "      <td>1.000000</td>\n",
              "      <td>187.000000</td>\n",
              "      <td>1.730000</td>\n",
              "      <td>5.000000</td>\n",
              "    </tr>\n",
              "    <tr>\n",
              "      <th>25%</th>\n",
              "      <td>0.081955</td>\n",
              "      <td>0.000000</td>\n",
              "      <td>5.130000</td>\n",
              "      <td>0.000000</td>\n",
              "      <td>5.879250</td>\n",
              "      <td>45.475000</td>\n",
              "      <td>4.000000</td>\n",
              "      <td>280.250000</td>\n",
              "      <td>7.125000</td>\n",
              "      <td>16.800000</td>\n",
              "    </tr>\n",
              "    <tr>\n",
              "      <th>50%</th>\n",
              "      <td>0.268880</td>\n",
              "      <td>0.000000</td>\n",
              "      <td>8.560000</td>\n",
              "      <td>0.000000</td>\n",
              "      <td>6.201500</td>\n",
              "      <td>77.700000</td>\n",
              "      <td>5.000000</td>\n",
              "      <td>330.000000</td>\n",
              "      <td>11.300000</td>\n",
              "      <td>21.050000</td>\n",
              "    </tr>\n",
              "    <tr>\n",
              "      <th>75%</th>\n",
              "      <td>3.435973</td>\n",
              "      <td>12.500000</td>\n",
              "      <td>18.100000</td>\n",
              "      <td>0.000000</td>\n",
              "      <td>6.605500</td>\n",
              "      <td>94.250000</td>\n",
              "      <td>24.000000</td>\n",
              "      <td>666.000000</td>\n",
              "      <td>17.117500</td>\n",
              "      <td>25.000000</td>\n",
              "    </tr>\n",
              "    <tr>\n",
              "      <th>max</th>\n",
              "      <td>88.976200</td>\n",
              "      <td>100.000000</td>\n",
              "      <td>27.740000</td>\n",
              "      <td>1.000000</td>\n",
              "      <td>8.780000</td>\n",
              "      <td>100.000000</td>\n",
              "      <td>24.000000</td>\n",
              "      <td>711.000000</td>\n",
              "      <td>37.970000</td>\n",
              "      <td>50.000000</td>\n",
              "    </tr>\n",
              "  </tbody>\n",
              "</table>\n",
              "</div>"
            ],
            "text/plain": [
              "             CRIM          ZN       INDUS  ...         TAX       LSTAT        MEDV\n",
              "count  394.000000  394.000000  394.000000  ...  394.000000  394.000000  394.000000\n",
              "mean     3.690136   11.460660   11.000863  ...  406.431472   12.769112   22.359645\n",
              "std      9.202423   23.954082    6.908364  ...  168.312419    7.308430    9.142979\n",
              "min      0.006320    0.000000    0.460000  ...  187.000000    1.730000    5.000000\n",
              "25%      0.081955    0.000000    5.130000  ...  280.250000    7.125000   16.800000\n",
              "50%      0.268880    0.000000    8.560000  ...  330.000000   11.300000   21.050000\n",
              "75%      3.435973   12.500000   18.100000  ...  666.000000   17.117500   25.000000\n",
              "max     88.976200  100.000000   27.740000  ...  711.000000   37.970000   50.000000\n",
              "\n",
              "[8 rows x 10 columns]"
            ]
          },
          "metadata": {},
          "execution_count": 26
        }
      ]
    },
    {
      "cell_type": "code",
      "metadata": {
        "colab": {
          "base_uri": "https://localhost:8080/",
          "height": 0
        },
        "id": "9c0nQgRwdpL7",
        "outputId": "26b7a86e-2119-48d6-ce6a-5c1c38459df2"
      },
      "source": [
        "true_news"
      ],
      "execution_count": 27,
      "outputs": [
        {
          "output_type": "execute_result",
          "data": {
            "text/html": [
              "<div>\n",
              "<style scoped>\n",
              "    .dataframe tbody tr th:only-of-type {\n",
              "        vertical-align: middle;\n",
              "    }\n",
              "\n",
              "    .dataframe tbody tr th {\n",
              "        vertical-align: top;\n",
              "    }\n",
              "\n",
              "    .dataframe thead th {\n",
              "        text-align: right;\n",
              "    }\n",
              "</style>\n",
              "<table border=\"1\" class=\"dataframe\">\n",
              "  <thead>\n",
              "    <tr style=\"text-align: right;\">\n",
              "      <th></th>\n",
              "      <th>CRIM</th>\n",
              "      <th>ZN</th>\n",
              "      <th>INDUS</th>\n",
              "      <th>CHAS</th>\n",
              "      <th>RM</th>\n",
              "      <th>AGE</th>\n",
              "      <th>RAD</th>\n",
              "      <th>TAX</th>\n",
              "      <th>LSTAT</th>\n",
              "      <th>MEDV</th>\n",
              "    </tr>\n",
              "  </thead>\n",
              "  <tbody>\n",
              "    <tr>\n",
              "      <th>0</th>\n",
              "      <td>0.00632</td>\n",
              "      <td>18.0</td>\n",
              "      <td>2.31</td>\n",
              "      <td>0.0</td>\n",
              "      <td>6.575</td>\n",
              "      <td>65.2</td>\n",
              "      <td>1</td>\n",
              "      <td>296</td>\n",
              "      <td>4.98</td>\n",
              "      <td>24.0</td>\n",
              "    </tr>\n",
              "    <tr>\n",
              "      <th>1</th>\n",
              "      <td>0.02731</td>\n",
              "      <td>0.0</td>\n",
              "      <td>7.07</td>\n",
              "      <td>0.0</td>\n",
              "      <td>6.421</td>\n",
              "      <td>78.9</td>\n",
              "      <td>2</td>\n",
              "      <td>242</td>\n",
              "      <td>9.14</td>\n",
              "      <td>21.6</td>\n",
              "    </tr>\n",
              "    <tr>\n",
              "      <th>2</th>\n",
              "      <td>0.02729</td>\n",
              "      <td>0.0</td>\n",
              "      <td>7.07</td>\n",
              "      <td>0.0</td>\n",
              "      <td>7.185</td>\n",
              "      <td>61.1</td>\n",
              "      <td>2</td>\n",
              "      <td>242</td>\n",
              "      <td>4.03</td>\n",
              "      <td>34.7</td>\n",
              "    </tr>\n",
              "    <tr>\n",
              "      <th>3</th>\n",
              "      <td>0.03237</td>\n",
              "      <td>0.0</td>\n",
              "      <td>2.18</td>\n",
              "      <td>0.0</td>\n",
              "      <td>6.998</td>\n",
              "      <td>45.8</td>\n",
              "      <td>3</td>\n",
              "      <td>222</td>\n",
              "      <td>2.94</td>\n",
              "      <td>33.4</td>\n",
              "    </tr>\n",
              "    <tr>\n",
              "      <th>4</th>\n",
              "      <td>0.02985</td>\n",
              "      <td>0.0</td>\n",
              "      <td>2.18</td>\n",
              "      <td>0.0</td>\n",
              "      <td>6.430</td>\n",
              "      <td>58.7</td>\n",
              "      <td>3</td>\n",
              "      <td>222</td>\n",
              "      <td>5.21</td>\n",
              "      <td>28.7</td>\n",
              "    </tr>\n",
              "    <tr>\n",
              "      <th>...</th>\n",
              "      <td>...</td>\n",
              "      <td>...</td>\n",
              "      <td>...</td>\n",
              "      <td>...</td>\n",
              "      <td>...</td>\n",
              "      <td>...</td>\n",
              "      <td>...</td>\n",
              "      <td>...</td>\n",
              "      <td>...</td>\n",
              "      <td>...</td>\n",
              "    </tr>\n",
              "    <tr>\n",
              "      <th>389</th>\n",
              "      <td>0.17783</td>\n",
              "      <td>0.0</td>\n",
              "      <td>9.69</td>\n",
              "      <td>0.0</td>\n",
              "      <td>5.569</td>\n",
              "      <td>73.5</td>\n",
              "      <td>6</td>\n",
              "      <td>391</td>\n",
              "      <td>15.10</td>\n",
              "      <td>17.5</td>\n",
              "    </tr>\n",
              "    <tr>\n",
              "      <th>390</th>\n",
              "      <td>0.22438</td>\n",
              "      <td>0.0</td>\n",
              "      <td>9.69</td>\n",
              "      <td>0.0</td>\n",
              "      <td>6.027</td>\n",
              "      <td>79.7</td>\n",
              "      <td>6</td>\n",
              "      <td>391</td>\n",
              "      <td>14.33</td>\n",
              "      <td>16.8</td>\n",
              "    </tr>\n",
              "    <tr>\n",
              "      <th>391</th>\n",
              "      <td>0.04527</td>\n",
              "      <td>0.0</td>\n",
              "      <td>11.93</td>\n",
              "      <td>0.0</td>\n",
              "      <td>6.120</td>\n",
              "      <td>76.7</td>\n",
              "      <td>1</td>\n",
              "      <td>273</td>\n",
              "      <td>9.08</td>\n",
              "      <td>20.6</td>\n",
              "    </tr>\n",
              "    <tr>\n",
              "      <th>392</th>\n",
              "      <td>0.06076</td>\n",
              "      <td>0.0</td>\n",
              "      <td>11.93</td>\n",
              "      <td>0.0</td>\n",
              "      <td>6.976</td>\n",
              "      <td>91.0</td>\n",
              "      <td>1</td>\n",
              "      <td>273</td>\n",
              "      <td>5.64</td>\n",
              "      <td>23.9</td>\n",
              "    </tr>\n",
              "    <tr>\n",
              "      <th>393</th>\n",
              "      <td>0.10959</td>\n",
              "      <td>0.0</td>\n",
              "      <td>11.93</td>\n",
              "      <td>0.0</td>\n",
              "      <td>6.794</td>\n",
              "      <td>89.3</td>\n",
              "      <td>1</td>\n",
              "      <td>273</td>\n",
              "      <td>6.48</td>\n",
              "      <td>22.0</td>\n",
              "    </tr>\n",
              "  </tbody>\n",
              "</table>\n",
              "<p>394 rows × 10 columns</p>\n",
              "</div>"
            ],
            "text/plain": [
              "        CRIM    ZN  INDUS  CHAS     RM   AGE  RAD  TAX  LSTAT  MEDV\n",
              "0    0.00632  18.0   2.31   0.0  6.575  65.2    1  296   4.98  24.0\n",
              "1    0.02731   0.0   7.07   0.0  6.421  78.9    2  242   9.14  21.6\n",
              "2    0.02729   0.0   7.07   0.0  7.185  61.1    2  242   4.03  34.7\n",
              "3    0.03237   0.0   2.18   0.0  6.998  45.8    3  222   2.94  33.4\n",
              "4    0.02985   0.0   2.18   0.0  6.430  58.7    3  222   5.21  28.7\n",
              "..       ...   ...    ...   ...    ...   ...  ...  ...    ...   ...\n",
              "389  0.17783   0.0   9.69   0.0  5.569  73.5    6  391  15.10  17.5\n",
              "390  0.22438   0.0   9.69   0.0  6.027  79.7    6  391  14.33  16.8\n",
              "391  0.04527   0.0  11.93   0.0  6.120  76.7    1  273   9.08  20.6\n",
              "392  0.06076   0.0  11.93   0.0  6.976  91.0    1  273   5.64  23.9\n",
              "393  0.10959   0.0  11.93   0.0  6.794  89.3    1  273   6.48  22.0\n",
              "\n",
              "[394 rows x 10 columns]"
            ]
          },
          "metadata": {},
          "execution_count": 27
        }
      ]
    },
    {
      "cell_type": "markdown",
      "metadata": {
        "id": "c2iKpcnHe7Wd"
      },
      "source": [
        "##Obtengo el target y los parámetros"
      ]
    },
    {
      "cell_type": "code",
      "metadata": {
        "id": "Dh7KPBE8e7vc"
      },
      "source": [
        "y = true_news['MEDV']\n",
        "X = true_news.copy()\n",
        "del X['MEDV']\n",
        "#Estandarizo los parámetros\n",
        "Sc = StandardScaler()\n",
        "X_norm = Sc.fit_transform(X)\n",
        "X_norm = pd.DataFrame(X_norm,columns=X.columns)\n",
        "#Divido el dataset para luego comparar el rendimiento de los métodos de reducción de dimención\n",
        "X_train, X_test, y_train, y_test = train_test_split(X_norm, y, random_state=1)\n"
      ],
      "execution_count": 28,
      "outputs": []
    },
    {
      "cell_type": "markdown",
      "metadata": {
        "id": "a7Ox1Gcqi-Aa"
      },
      "source": [
        "##Utilizando Principal component analysis (PCA) y obtengo las 14 columnas de datos originales expresadas en dos columnas"
      ]
    },
    {
      "cell_type": "code",
      "metadata": {
        "colab": {
          "base_uri": "https://localhost:8080/",
          "height": 0
        },
        "id": "MXzRMYVpjEpY",
        "outputId": "3f40b958-9eb4-4eaf-ee0d-4f36de5223b7"
      },
      "source": [
        "pca = PCA(n_components=2) #Realizo una reducción de dimención de 14 a 2\n",
        "X_PCA_transform = pd.DataFrame(pca.fit_transform(X_train),columns={'Componente 1','Componente 2'})\n",
        "X_PCA_transform['MEDV'] = y_train.values\n",
        "X_PCA_transform.plot.scatter(x='Componente 1',y='Componente 2',c='MEDV',colormap='viridis',figsize=(10,6));"
      ],
      "execution_count": 29,
      "outputs": [
        {
          "output_type": "display_data",
          "data": {
            "image/png": "[encoded data removed]",
            "text/plain": [
              "<Figure size 720x432 with 2 Axes>"
            ]
          },
          "metadata": {
            "needs_background": "light"
          }
        }
      ]
    },
    {
      "cell_type": "markdown",
      "metadata": {
        "id": "MQ42y7wrUPLt"
      },
      "source": [
        "Se redujo a dos dimenciones la información total y se puede ver como se agrupan los valores mas altos de las casas y los mas bajos. hay bastante sesgo en el medio el gráfico por la reducción de dimencionalidad."
      ]
    },
    {
      "cell_type": "markdown",
      "metadata": {
        "id": "vbo74_go36vj"
      },
      "source": [
        "##Utilizando Latent Dirichlet Allocation (LDA)"
      ]
    },
    {
      "cell_type": "code",
      "metadata": {
        "id": "uwmxFOnz83b_"
      },
      "source": [
        "lda = LatentDirichletAllocation(n_components=2)\n",
        "#LDA no puede tener valores negativos, pruebo el rendimiento desplzando los valores antes de entrenar\n",
        "X_train_shift = pd.DataFrame()\n",
        "shift = 0\n",
        "for columna in X_train: #Obtengo el valor mas bajo de toda la\n",
        "    if (min(X_train[columna])<shift):\n",
        "        shift = min(X_train[columna])\n",
        "\n",
        "for columna in X_train:\n",
        "    values = []\n",
        "    oldValues = X_train[columna].values\n",
        "    for i in range(X_train.shape[0]):\n",
        "        values.append(oldValues[i] - shift)\n",
        "    X_train_shift[columna] = values\n",
        "\n",
        "#Hago la transformación\n",
        "X_LDA_transform_shift = pd.DataFrame(lda.fit_transform(X_train_shift),columns={'Componente 1','Componente 2'})\n",
        "X_LDA_transform = pd.DataFrame()\n",
        "#Hago el Shift de valores nuevamente\n",
        "for columna in X_LDA_transform_shift:\n",
        "    values = []\n",
        "    oldValues = X_LDA_transform_shift[columna].values\n",
        "    for i in range(X_LDA_transform_shift.shape[0]):\n",
        "        values.append(oldValues[i] + shift)\n",
        "    X_LDA_transform[columna] = values\n",
        "\n",
        "X_LDA_transform['MEDV'] = y_train.values\n",
        "X_LDA_transform.plot.scatter(x='Componente 1',y='Componente 2',c='MEDV',colormap='viridis',figsize=(10,6));"
      ],
      "execution_count": null,
      "outputs": []
    },
    {
      "cell_type": "markdown",
      "metadata": {
        "id": "cjWKN7oCU4LZ"
      },
      "source": [
        "Se pueden observar los grupos sobre la recta dando los valores mayores de la componente 2 y menor componente 1 como las casas mas caras y viceversa."
      ]
    },
    {
      "cell_type": "markdown",
      "metadata": {
        "id": "bTWeUdn4VaS7"
      },
      "source": [
        "##Por último pruebo con Non-Negative Matrix Factorization (NMF)."
      ]
    },
    {
      "cell_type": "code",
      "metadata": {
        "id": "qK5MOKwGVrjn"
      },
      "source": [
        "nmf = NMF(n_components=2,init='random')\n",
        "# Al igual que LDA no se pueden ingresar valores negativos, utilizo el mismo método\n",
        "#Hago la transformación\n",
        "X_NMF_transform_shift = pd.DataFrame(nmf.fit_transform(X_train_shift),columns={'Componente 1','Componente 2'})\n",
        "X_NMF_transform = pd.DataFrame()\n",
        "#Hago el Shift de valores nuevamente\n",
        "for columna in X_NMF_transform_shift:\n",
        "    values = []\n",
        "    oldValues = X_NMF_transform_shift[columna].values\n",
        "    for i in range(X_NMF_transform_shift.shape[0]):\n",
        "        values.append(oldValues[i] + shift)\n",
        "    X_NMF_transform[columna] = values\n",
        "\n",
        "X_NMF_transform['MEDV'] = y_train.values\n",
        "X_NMF_transform.plot.scatter(x='Componente 1',y='Componente 2',c='MEDV',colormap='viridis',figsize=(10,6));"
      ],
      "execution_count": null,
      "outputs": []
    },
    {
      "cell_type": "markdown",
      "metadata": {
        "id": "mi29Zc8Mc1CM"
      },
      "source": [
        "Se puede ver como las casas mas caras se juntan en los mayores valores de componente 2 y menor componente 1"
      ]
    },
    {
      "cell_type": "markdown",
      "metadata": {
        "id": "Dg_rPUjudG7N"
      },
      "source": [
        "## Los métodos LDA y NMF, lograron una mejor reducción que PCA, sin embargo los tres hicieron una reducción de dimencionalidad buena."
      ]
    }
  ]
}